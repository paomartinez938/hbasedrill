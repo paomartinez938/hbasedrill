{
 "cells": [
  {
   "cell_type": "code",
   "execution_count": 1,
   "metadata": {},
   "outputs": [],
   "source": [
    "import happybase #permite conectarse a hbase"
   ]
  },
  {
   "cell_type": "code",
   "execution_count": 27,
   "metadata": {},
   "outputs": [],
   "source": [
    "host = 'localhost'\n",
    "connection = happybase.Connection(host = host)"
   ]
  },
  {
   "cell_type": "code",
   "execution_count": 3,
   "metadata": {},
   "outputs": [],
   "source": [
    "connection.create_table(\n",
    "    'Educacion',\n",
    "     {'EstudianteCF': dict(), # it uses defaults, if you want you can define column definitions\n",
    "     'MateriaCF': dict(),\n",
    "     'EscuelaCF': dict()\n",
    "     }\n",
    " )"
   ]
  },
  {
   "cell_type": "code",
   "execution_count": 6,
   "metadata": {},
   "outputs": [
    {
     "name": "stdout",
     "output_type": "stream",
     "text": [
      "[b'Educacion']\n"
     ]
    }
   ],
   "source": [
    "print(connection.tables())"
   ]
  },
  {
   "cell_type": "code",
   "execution_count": 28,
   "metadata": {},
   "outputs": [
    {
     "name": "stdout",
     "output_type": "stream",
     "text": [
      "b'EscuelaCF'\n",
      "b'EstudianteCF'\n",
      "b'MateriaCF'\n"
     ]
    }
   ],
   "source": [
    "table = connection.table('Educacion')\n",
    "for key,data in table.families().items():\n",
    "     print(key)"
   ]
  },
  {
   "cell_type": "code",
   "execution_count": 11,
   "metadata": {},
   "outputs": [],
   "source": [
    "table.put('sergioArboleda',{'EstudianteCF:Nombre':'Esteban',\n",
    "                             'EstudianteCF:Apellido':'Hernandez',\n",
    "                             'EstudianteCF:Area':'Analytics'\n",
    "                            })"
   ]
  },
  {
   "cell_type": "code",
   "execution_count": 15,
   "metadata": {},
   "outputs": [],
   "source": [
    "table.put('sergioArboleda',{'EscuelaCF:Nombre':'Matematicas',\n",
    "                             'EscuelaCF:Area':'Ciencias Basicas',\n",
    "                             'EscuelaCF:Nivel':'Pregrado y Postgrado'\n",
    "                            })"
   ]
  },
  {
   "cell_type": "code",
   "execution_count": 18,
   "metadata": {},
   "outputs": [],
   "source": [
    "table.put('sergioArboleda',{'MateriaCF:Nombre':'Matematicas',\n",
    "                             'MateriaCF:Area':'Ciencias Basicas',\n",
    "                             'MateriaCF:Profesor':'Paola Martin'\n",
    "                            })"
   ]
  },
  {
   "cell_type": "code",
   "execution_count": 30,
   "metadata": {},
   "outputs": [
    {
     "name": "stdout",
     "output_type": "stream",
     "text": [
      "b'sergioArboleda' {b'EscuelaCF:Area': b'Ciencias Basicas', b'EscuelaCF:Nivel': b'Pregrado y Postgrado', b'EscuelaCF:Nombre': b'Matematicas', b'EstudianteCF:Apellido': b'Hernandez', b'EstudianteCF:Area': b'Analytics', b'EstudianteCF:Nombre': b'Esteban', b'MateriaCF:Area': b'Ciencias Basicas', b'MateriaCF:Nombre': b'Matematicas', b'MateriaCF:Profesor': b'Paola Martin'}\n"
     ]
    }
   ],
   "source": [
    "for key, data in table.scan():\n",
    "    print(key, data)"
   ]
  },
  {
   "cell_type": "code",
   "execution_count": 25,
   "metadata": {},
   "outputs": [
    {
     "name": "stdout",
     "output_type": "stream",
     "text": [
      "b'sergioArboleda' {b'EscuelaCF:Area': b'Ciencias Basicas', b'EscuelaCF:Nivel': b'Pregrado y Postgrado', b'EscuelaCF:Nombre': b'Matematicas', b'EstudianteCF:Apellido': b'Hernandez', b'EstudianteCF:Area': b'Analytics', b'EstudianteCF:Nombre': b'Esteban', b'MateriaCF:Area': b'Ciencias Basicas', b'MateriaCF:Nombre': b'Matematicas', b'MateriaCF:Profesor': b'Paola Martin'}\n"
     ]
    }
   ],
   "source": [
    "rows = table.rows(['sergioArboleda'])\n",
    "for key, data in rows:\n",
    "    print(key, data)"
   ]
  },
  {
   "cell_type": "code",
   "execution_count": 23,
   "metadata": {},
   "outputs": [],
   "source": [
    "table.put('ULibre',{'EstudianteCF:Nombre':'Esteban',\n",
    "                             'EstudianteCF:Apellido':'Hernandez',\n",
    "                             'EstudianteCF:Area':'Analytics'\n",
    "                            })"
   ]
  },
  {
   "cell_type": "code",
   "execution_count": 29,
   "metadata": {},
   "outputs": [],
   "source": [
    "table.delete('ULibre')"
   ]
  },
  {
   "cell_type": "code",
   "execution_count": null,
   "metadata": {},
   "outputs": [],
   "source": [
    "host = 'localhost'\n",
    "connection = happybase.Connection(host = host)\n",
    "table = connection.table('Educacion')"
   ]
  },
  {
   "cell_type": "code",
   "execution_count": null,
   "metadata": {},
   "outputs": [],
   "source": []
  }
 ],
 "metadata": {
  "kernelspec": {
   "display_name": "Python 3",
   "language": "python",
   "name": "python3"
  },
  "language_info": {
   "codemirror_mode": {
    "name": "ipython",
    "version": 3
   },
   "file_extension": ".py",
   "mimetype": "text/x-python",
   "name": "python",
   "nbconvert_exporter": "python",
   "pygments_lexer": "ipython3",
   "version": "3.8.5"
  }
 },
 "nbformat": 4,
 "nbformat_minor": 4
}
